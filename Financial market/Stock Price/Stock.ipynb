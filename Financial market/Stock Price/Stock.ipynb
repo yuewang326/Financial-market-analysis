{
 "cells": [
  {
   "cell_type": "markdown",
   "metadata": {},
   "source": [
    "##  A.1"
   ]
  },
  {
   "cell_type": "markdown",
   "metadata": {},
   "source": [
    "Stock: FB ; index: S&P500, from Feb.22nd 2015 to Feb.22nd 2020."
   ]
  },
  {
   "cell_type": "markdown",
   "metadata": {},
   "source": [
    "## B.1"
   ]
  },
  {
   "cell_type": "code",
   "execution_count": 1,
   "metadata": {},
   "outputs": [],
   "source": [
    "# load data and packages\n",
    "import pandas as pd\n",
    "\n",
    "df_fb = pd.read_csv(\"FB.csv\", index_col='Date', parse_dates=True)"
   ]
  },
  {
   "cell_type": "code",
   "execution_count": 3,
   "metadata": {},
   "outputs": [
    {
     "data": {
      "text/html": [
       "<div>\n",
       "<style scoped>\n",
       "    .dataframe tbody tr th:only-of-type {\n",
       "        vertical-align: middle;\n",
       "    }\n",
       "\n",
       "    .dataframe tbody tr th {\n",
       "        vertical-align: top;\n",
       "    }\n",
       "\n",
       "    .dataframe thead th {\n",
       "        text-align: right;\n",
       "    }\n",
       "</style>\n",
       "<table border=\"1\" class=\"dataframe\">\n",
       "  <thead>\n",
       "    <tr style=\"text-align: right;\">\n",
       "      <th></th>\n",
       "      <th>Open</th>\n",
       "      <th>High</th>\n",
       "      <th>Low</th>\n",
       "      <th>Close</th>\n",
       "      <th>Adj Close</th>\n",
       "      <th>Volume</th>\n",
       "    </tr>\n",
       "    <tr>\n",
       "      <th>Date</th>\n",
       "      <th></th>\n",
       "      <th></th>\n",
       "      <th></th>\n",
       "      <th></th>\n",
       "      <th></th>\n",
       "      <th></th>\n",
       "    </tr>\n",
       "  </thead>\n",
       "  <tbody>\n",
       "    <tr>\n",
       "      <td>2015-02-23</td>\n",
       "      <td>79.959999</td>\n",
       "      <td>80.190002</td>\n",
       "      <td>78.379997</td>\n",
       "      <td>78.839996</td>\n",
       "      <td>78.839996</td>\n",
       "      <td>24139100</td>\n",
       "    </tr>\n",
       "    <tr>\n",
       "      <td>2015-02-24</td>\n",
       "      <td>78.500000</td>\n",
       "      <td>79.480003</td>\n",
       "      <td>78.099998</td>\n",
       "      <td>78.449997</td>\n",
       "      <td>78.449997</td>\n",
       "      <td>18897100</td>\n",
       "    </tr>\n",
       "    <tr>\n",
       "      <td>2015-02-25</td>\n",
       "      <td>78.500000</td>\n",
       "      <td>80.199997</td>\n",
       "      <td>78.500000</td>\n",
       "      <td>79.559998</td>\n",
       "      <td>79.559998</td>\n",
       "      <td>25593800</td>\n",
       "    </tr>\n",
       "  </tbody>\n",
       "</table>\n",
       "</div>"
      ],
      "text/plain": [
       "                 Open       High        Low      Close  Adj Close    Volume\n",
       "Date                                                                       \n",
       "2015-02-23  79.959999  80.190002  78.379997  78.839996  78.839996  24139100\n",
       "2015-02-24  78.500000  79.480003  78.099998  78.449997  78.449997  18897100\n",
       "2015-02-25  78.500000  80.199997  78.500000  79.559998  79.559998  25593800"
      ]
     },
     "execution_count": 3,
     "metadata": {},
     "output_type": "execute_result"
    }
   ],
   "source": [
    "df_fb.head(3)"
   ]
  },
  {
   "cell_type": "code",
   "execution_count": 2,
   "metadata": {},
   "outputs": [
    {
     "data": {
      "text/plain": [
       "Text(0.5, 1.0, 'Line Chart for Facebook Adjusted Closing Price')"
      ]
     },
     "execution_count": 2,
     "metadata": {},
     "output_type": "execute_result"
    },
    {
     "data": {
      "image/png": "[encoded data removed]",
      "text/plain": [
       "<Figure size 432x288 with 1 Axes>"
      ]
     },
     "metadata": {
      "needs_background": "light"
     },
     "output_type": "display_data"
    }
   ],
   "source": [
    "# line chart\n",
    "%matplotlib inline\n",
    "import matplotlib.pyplot as plt\n",
    "\n",
    "df_fb['Adj Close'].plot()\n",
    "plt.title(\"Line Chart for Facebook Adjusted Closing Price\")"
   ]
  },
  {
   "cell_type": "markdown",
   "metadata": {},
   "source": [
    "## C.1 "
   ]
  },
  {
   "cell_type": "code",
   "execution_count": 3,
   "metadata": {},
   "outputs": [],
   "source": [
    "# load data\n",
    "\n",
    "df_sp = pd.read_csv(\"S&P500.csv\", index_col='Date', parse_dates=True)\n",
    "\n",
    "# combine two dataframes\n",
    "df_comp = pd.DataFrame({\"FB\":df_fb['Adj Close'],\n",
    "                       \"SP500\":df_sp['Adj Close']})"
   ]
  },
  {
   "cell_type": "code",
   "execution_count": 4,
   "metadata": {},
   "outputs": [
    {
     "data": {
      "text/html": [
       "<div>\n",
       "<style scoped>\n",
       "    .dataframe tbody tr th:only-of-type {\n",
       "        vertical-align: middle;\n",
       "    }\n",
       "\n",
       "    .dataframe tbody tr th {\n",
       "        vertical-align: top;\n",
       "    }\n",
       "\n",
       "    .dataframe thead th {\n",
       "        text-align: right;\n",
       "    }\n",
       "</style>\n",
       "<table border=\"1\" class=\"dataframe\">\n",
       "  <thead>\n",
       "    <tr style=\"text-align: right;\">\n",
       "      <th></th>\n",
       "      <th>FB</th>\n",
       "      <th>SP500</th>\n",
       "    </tr>\n",
       "    <tr>\n",
       "      <th>Date</th>\n",
       "      <th></th>\n",
       "      <th></th>\n",
       "    </tr>\n",
       "  </thead>\n",
       "  <tbody>\n",
       "    <tr>\n",
       "      <th>2015-02-23</th>\n",
       "      <td>78.839996</td>\n",
       "      <td>2109.659912</td>\n",
       "    </tr>\n",
       "    <tr>\n",
       "      <th>2015-02-24</th>\n",
       "      <td>78.449997</td>\n",
       "      <td>2115.479980</td>\n",
       "    </tr>\n",
       "    <tr>\n",
       "      <th>2015-02-25</th>\n",
       "      <td>79.559998</td>\n",
       "      <td>2113.860107</td>\n",
       "    </tr>\n",
       "    <tr>\n",
       "      <th>2015-02-26</th>\n",
       "      <td>80.410004</td>\n",
       "      <td>2110.739990</td>\n",
       "    </tr>\n",
       "    <tr>\n",
       "      <th>2015-02-27</th>\n",
       "      <td>78.970001</td>\n",
       "      <td>2104.500000</td>\n",
       "    </tr>\n",
       "  </tbody>\n",
       "</table>\n",
       "</div>"
      ],
      "text/plain": [
       "                   FB        SP500\n",
       "Date                              \n",
       "2015-02-23  78.839996  2109.659912\n",
       "2015-02-24  78.449997  2115.479980\n",
       "2015-02-25  79.559998  2113.860107\n",
       "2015-02-26  80.410004  2110.739990\n",
       "2015-02-27  78.970001  2104.500000"
      ]
     },
     "execution_count": 4,
     "metadata": {},
     "output_type": "execute_result"
    }
   ],
   "source": [
    "df_comp.head()"
   ]
  },
  {
   "cell_type": "code",
   "execution_count": 5,
   "metadata": {},
   "outputs": [
    {
     "data": {
      "text/plain": [
       "<matplotlib.legend.Legend at 0x1a169c09b0>"
      ]
     },
     "execution_count": 5,
     "metadata": {},
     "output_type": "execute_result"
    },
    {
     "data": {
      "image/png": "[encoded data removed]",
      "text/plain": [
       "<Figure size 432x288 with 2 Axes>"
      ]
     },
     "metadata": {
      "needs_background": "light"
     },
     "output_type": "display_data"
    }
   ],
   "source": [
    "import seaborn as sns\n",
    "import matplotlib.patches as mpatches\n",
    "\n",
    "sns.lineplot(data=df_comp.FB, color=\"g\")\n",
    "ax2 = plt.twinx()\n",
    "sns.lineplot(data=df_comp.SP500, color=\"b\", ax=ax2)\n",
    "\n",
    "# customize legend\n",
    "FB = mpatches.Patch(color='green', label='Facebook')\n",
    "SP = mpatches.Patch(color='blue', label='S&P500')\n",
    "plt.legend(handles=[FB, SP])"
   ]
  },
  {
   "cell_type": "markdown",
   "metadata": {},
   "source": [
    "## C.2 "
   ]
  },
  {
   "cell_type": "markdown",
   "metadata": {},
   "source": [
    "FB outperform the S&P500 over the period."
   ]
  },
  {
   "cell_type": "markdown",
   "metadata": {},
   "source": [
    "## D.1 "
   ]
  },
  {
   "cell_type": "code",
   "execution_count": 6,
   "metadata": {},
   "outputs": [],
   "source": [
    "# filter out data between 2015 and 2018\n",
    "\n",
    "df_beta = df_comp[df_comp.index.year.isin(range(2017, 2019))]"
   ]
  },
  {
   "cell_type": "code",
   "execution_count": 7,
   "metadata": {},
   "outputs": [],
   "source": [
    "FB_return = df_beta.FB.pct_change()[1:]\n",
    "SP_return = df_beta.SP500.pct_change()[1:]"
   ]
  },
  {
   "cell_type": "code",
   "execution_count": 8,
   "metadata": {},
   "outputs": [
    {
     "data": {
      "image/png": "[encoded data removed]",
      "text/plain": [
       "<Figure size 432x288 with 1 Axes>"
      ]
     },
     "metadata": {
      "needs_background": "light"
     },
     "output_type": "display_data"
    }
   ],
   "source": [
    "plt.title(\"Facebook vs SP500 - Daily Returns\")\n",
    "plt.scatter(SP_return, FB_return)\n",
    "plt.xlabel('SP500 returns')\n",
    "plt.ylabel('Facebook returns')\n",
    "plt.show()"
   ]
  },
  {
   "cell_type": "markdown",
   "metadata": {},
   "source": [
    "## D.2  "
   ]
  },
  {
   "cell_type": "code",
   "execution_count": 9,
   "metadata": {},
   "outputs": [
    {
     "name": "stdout",
     "output_type": "stream",
     "text": [
      "                            OLS Regression Results                            \n",
      "==============================================================================\n",
      "Dep. Variable:                     FB   R-squared:                       0.314\n",
      "Model:                            OLS   Adj. R-squared:                  0.313\n",
      "Method:                 Least Squares   F-statistic:                     228.6\n",
      "Date:                Sun, 24 May 2020   Prob (F-statistic):           8.51e-43\n",
      "Time:                        10:45:54   Log-Likelihood:                 1380.3\n",
      "No. Observations:                 501   AIC:                            -2757.\n",
      "Df Residuals:                     499   BIC:                            -2748.\n",
      "Df Model:                           1                                         \n",
      "Covariance Type:            nonrobust                                         \n",
      "==============================================================================\n",
      "                 coef    std err          t      P>|t|      [0.025      0.975]\n",
      "------------------------------------------------------------------------------\n",
      "const       9.822e-05      0.001      0.143      0.887      -0.001       0.001\n",
      "SP500          1.2774      0.084     15.121      0.000       1.111       1.443\n",
      "==============================================================================\n",
      "Omnibus:                      457.744   Durbin-Watson:                   2.024\n",
      "Prob(Omnibus):                  0.000   Jarque-Bera (JB):            39544.028\n",
      "Skew:                          -3.509   Prob(JB):                         0.00\n",
      "Kurtosis:                      45.954   Cond. No.                         123.\n",
      "==============================================================================\n",
      "\n",
      "Warnings:\n",
      "[1] Standard Errors assume that the covariance matrix of the errors is correctly specified.\n"
     ]
    },
    {
     "name": "stderr",
     "output_type": "stream",
     "text": [
      "/miniconda3/lib/python3.7/site-packages/numpy/core/fromnumeric.py:2389: FutureWarning: Method .ptp is deprecated and will be removed in a future version. Use numpy.ptp instead.\n",
      "  return ptp(axis=axis, out=out, **kwargs)\n"
     ]
    }
   ],
   "source": [
    "import statsmodels.api as sm\n",
    "\n",
    "# regression of FB returns vs. SP500; assumes intercept = 0\n",
    "indvars = sm.add_constant(SP_return) #\n",
    "model = sm.OLS(FB_return, indvars).fit()\n",
    "summary = model.summary()\n",
    "print(summary)"
   ]
  },
  {
   "cell_type": "markdown",
   "metadata": {},
   "source": [
    "### Formula: \\begin{align}  y_{fb} = .0000982 + 1.28x +  \\end{align}\n",
    "### R-squared: 0.32\n",
    "### Beta: 1.2774\n",
    "\n",
    "A beta that is greater than 1.0 indicates that the security's price is more volatile than the market. "
   ]
  },
  {
   "cell_type": "markdown",
   "metadata": {},
   "source": [
    "## E.1 "
   ]
  },
  {
   "cell_type": "code",
   "execution_count": 10,
   "metadata": {},
   "outputs": [
    {
     "data": {
      "text/html": [
       "<div>\n",
       "<style scoped>\n",
       "    .dataframe tbody tr th:only-of-type {\n",
       "        vertical-align: middle;\n",
       "    }\n",
       "\n",
       "    .dataframe tbody tr th {\n",
       "        vertical-align: top;\n",
       "    }\n",
       "\n",
       "    .dataframe thead th {\n",
       "        text-align: right;\n",
       "    }\n",
       "</style>\n",
       "<table border=\"1\" class=\"dataframe\">\n",
       "  <thead>\n",
       "    <tr style=\"text-align: right;\">\n",
       "      <th></th>\n",
       "      <th>Open</th>\n",
       "      <th>High</th>\n",
       "      <th>Low</th>\n",
       "      <th>Close</th>\n",
       "      <th>Adj Close</th>\n",
       "      <th>Volume</th>\n",
       "      <th>return</th>\n",
       "    </tr>\n",
       "    <tr>\n",
       "      <th>Date</th>\n",
       "      <th></th>\n",
       "      <th></th>\n",
       "      <th></th>\n",
       "      <th></th>\n",
       "      <th></th>\n",
       "      <th></th>\n",
       "      <th></th>\n",
       "    </tr>\n",
       "  </thead>\n",
       "  <tbody>\n",
       "    <tr>\n",
       "      <th>2015-02-23</th>\n",
       "      <td>79.959999</td>\n",
       "      <td>80.190002</td>\n",
       "      <td>78.379997</td>\n",
       "      <td>78.839996</td>\n",
       "      <td>78.839996</td>\n",
       "      <td>24139100</td>\n",
       "      <td>NaN</td>\n",
       "    </tr>\n",
       "    <tr>\n",
       "      <th>2015-02-24</th>\n",
       "      <td>78.500000</td>\n",
       "      <td>79.480003</td>\n",
       "      <td>78.099998</td>\n",
       "      <td>78.449997</td>\n",
       "      <td>78.449997</td>\n",
       "      <td>18897100</td>\n",
       "      <td>-0.004947</td>\n",
       "    </tr>\n",
       "    <tr>\n",
       "      <th>2015-02-25</th>\n",
       "      <td>78.500000</td>\n",
       "      <td>80.199997</td>\n",
       "      <td>78.500000</td>\n",
       "      <td>79.559998</td>\n",
       "      <td>79.559998</td>\n",
       "      <td>25593800</td>\n",
       "      <td>0.014149</td>\n",
       "    </tr>\n",
       "    <tr>\n",
       "      <th>2015-02-26</th>\n",
       "      <td>79.879997</td>\n",
       "      <td>81.370003</td>\n",
       "      <td>79.720001</td>\n",
       "      <td>80.410004</td>\n",
       "      <td>80.410004</td>\n",
       "      <td>31111900</td>\n",
       "      <td>0.010684</td>\n",
       "    </tr>\n",
       "    <tr>\n",
       "      <th>2015-02-27</th>\n",
       "      <td>80.680000</td>\n",
       "      <td>81.230003</td>\n",
       "      <td>78.620003</td>\n",
       "      <td>78.970001</td>\n",
       "      <td>78.970001</td>\n",
       "      <td>30739200</td>\n",
       "      <td>-0.017908</td>\n",
       "    </tr>\n",
       "  </tbody>\n",
       "</table>\n",
       "</div>"
      ],
      "text/plain": [
       "                 Open       High        Low      Close  Adj Close    Volume  \\\n",
       "Date                                                                          \n",
       "2015-02-23  79.959999  80.190002  78.379997  78.839996  78.839996  24139100   \n",
       "2015-02-24  78.500000  79.480003  78.099998  78.449997  78.449997  18897100   \n",
       "2015-02-25  78.500000  80.199997  78.500000  79.559998  79.559998  25593800   \n",
       "2015-02-26  79.879997  81.370003  79.720001  80.410004  80.410004  31111900   \n",
       "2015-02-27  80.680000  81.230003  78.620003  78.970001  78.970001  30739200   \n",
       "\n",
       "              return  \n",
       "Date                  \n",
       "2015-02-23       NaN  \n",
       "2015-02-24 -0.004947  \n",
       "2015-02-25  0.014149  \n",
       "2015-02-26  0.010684  \n",
       "2015-02-27 -0.017908  "
      ]
     },
     "execution_count": 10,
     "metadata": {},
     "output_type": "execute_result"
    }
   ],
   "source": [
    "df_fb['return'] = df_fb['Adj Close'].pct_change()\n",
    "df_fb.head()"
   ]
  },
  {
   "cell_type": "markdown",
   "metadata": {},
   "source": [
    "Highest return:"
   ]
  },
  {
   "cell_type": "code",
   "execution_count": 11,
   "metadata": {},
   "outputs": [
    {
     "data": {
      "text/plain": [
       "Open         1.072000e+02\n",
       "High         1.103400e+02\n",
       "Low          1.048100e+02\n",
       "Close        1.091100e+02\n",
       "Adj Close    1.091100e+02\n",
       "Volume       1.074753e+08\n",
       "return       1.552144e-01\n",
       "Name: 2016-01-28 00:00:00, dtype: float64"
      ]
     },
     "execution_count": 11,
     "metadata": {},
     "output_type": "execute_result"
    }
   ],
   "source": [
    "df_fb.loc[df_fb['return'].idxmax()]"
   ]
  },
  {
   "cell_type": "markdown",
   "metadata": {},
   "source": [
    "Lowest return:"
   ]
  },
  {
   "cell_type": "code",
   "execution_count": 12,
   "metadata": {},
   "outputs": [
    {
     "data": {
      "text/plain": [
       "Open         1.748900e+02\n",
       "High         1.801300e+02\n",
       "Low          1.737500e+02\n",
       "Close        1.762600e+02\n",
       "Adj Close    1.762600e+02\n",
       "Volume       1.698037e+08\n",
       "return      -1.896092e-01\n",
       "Name: 2018-07-26 00:00:00, dtype: float64"
      ]
     },
     "execution_count": 12,
     "metadata": {},
     "output_type": "execute_result"
    }
   ],
   "source": [
    "df_fb.loc[df_fb['return'].idxmin()]"
   ]
  },
  {
   "cell_type": "markdown",
   "metadata": {},
   "source": [
    "On 2018-07-26, the company missed projections on revenue and growth\n",
    "https://www.marketwatch.com/story/facebook-stock-crushed-after-revenue-user-growth-miss-2018-07-25"
   ]
  },
  {
   "cell_type": "markdown",
   "metadata": {},
   "source": [
    "## F.1 "
   ]
  },
  {
   "cell_type": "code",
   "execution_count": 13,
   "metadata": {},
   "outputs": [
    {
     "data": {
      "text/plain": [
       "<matplotlib.axes._subplots.AxesSubplot at 0x1c17ca5eb8>"
      ]
     },
     "execution_count": 13,
     "metadata": {},
     "output_type": "execute_result"
    },
    {
     "data": {
      "image/png": "[encoded data removed]",
      "text/plain": [
       "<Figure size 432x288 with 1 Axes>"
      ]
     },
     "metadata": {
      "needs_background": "light"
     },
     "output_type": "display_data"
    }
   ],
   "source": [
    "df_fb['return'].plot(kind='hist', bins=60)"
   ]
  },
  {
   "cell_type": "markdown",
   "metadata": {},
   "source": [
    "## F.2 "
   ]
  },
  {
   "cell_type": "code",
   "execution_count": 14,
   "metadata": {},
   "outputs": [
    {
     "name": "stdout",
     "output_type": "stream",
     "text": [
      "mean= 0.00094\n",
      "std dev= 0.01785\n"
     ]
    }
   ],
   "source": [
    "# statistics on daily returns\n",
    "print(\"mean=\", \"%.5f\" % df_fb['return'].mean())\n",
    "print(\"std dev=\", \"%.5f\" % df_fb['return'].std())"
   ]
  },
  {
   "cell_type": "markdown",
   "metadata": {},
   "source": [
    "## F.3 "
   ]
  },
  {
   "cell_type": "code",
   "execution_count": 15,
   "metadata": {},
   "outputs": [
    {
     "name": "stdout",
     "output_type": "stream",
     "text": [
      "skewness= -0.5\n",
      "kurtosis= 17.1\n"
     ]
    }
   ],
   "source": [
    "print(\"skewness=\", \"%.1f\" % df_fb['return'].skew())\n",
    "print(\"kurtosis=\", \"%.1f\" % df_fb['return'].kurt())"
   ]
  },
  {
   "cell_type": "markdown",
   "metadata": {},
   "source": [
    "The high kurtosis indicates the distribution's tails are fatter than a normal distribution."
   ]
  },
  {
   "cell_type": "code",
   "execution_count": null,
   "metadata": {},
   "outputs": [],
   "source": []
  }
 ],
 "metadata": {
  "kernelspec": {
   "display_name": "Python 3",
   "language": "python",
   "name": "python3"
  },
  "language_info": {
   "codemirror_mode": {
    "name": "ipython",
    "version": 3
   },
   "file_extension": ".py",
   "mimetype": "text/x-python",
   "name": "python",
   "nbconvert_exporter": "python",
   "pygments_lexer": "ipython3",
   "version": "3.8.8"
  }
 },
 "nbformat": 4,
 "nbformat_minor": 2
}
