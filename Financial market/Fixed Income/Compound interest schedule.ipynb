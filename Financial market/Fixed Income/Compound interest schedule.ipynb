{
 "cells": [
  {
   "cell_type": "markdown",
   "metadata": {},
   "source": [
    "CD Compound Interest Schedule"
   ]
  },
  {
   "cell_type": "code",
   "execution_count": 1,
   "metadata": {},
   "outputs": [],
   "source": [
    "import pandas as pd"
   ]
  },
  {
   "cell_type": "code",
   "execution_count": 2,
   "metadata": {},
   "outputs": [],
   "source": [
    "# create an annual balance schedule for a CD\n",
    "#  start - starting balance ($)\n",
    "#  years - # of years of CD (years)\n",
    "#  interestRate - # annual interest rate (decimal)\n",
    "#  compoundFrequency - 1 for annual, 2 for semi-ann, 4 for quarterly, 12 for monthly\n",
    "def CompoundInterestSchedule(start, years, interestRate, compoundFrequency):\n",
    "   result = pd.DataFrame({\"start\":[], \"interest\":[], \"end\":[]})\n",
    "   startBalance = start\n",
    "   for year in range(1, years+1):\n",
    "      # calculate endBalance, and interestEarned\n",
    "      endBalance = startBalance * (1 + interestRate / compoundFrequency) ** compoundFrequency\n",
    "      endBalance = round(endBalance, 2)\n",
    "      interestEarned = endBalance - startBalance\n",
    "    \n",
    "      # add row to dataFrame\n",
    "      #print(year, startBalance, interestEarned, endBalance)\n",
    "      row = pd.DataFrame({\"start\":startBalance,\n",
    "                       \"interest\":interestEarned,\n",
    "                       \"end\": endBalance}, index=[year])\n",
    "      result = result.append(row)\n",
    "    \n",
    "      # roll over endBalance to next year's startBalance\n",
    "      startBalance = endBalance\n",
    "   \n",
    "   return result"
   ]
  },
  {
   "cell_type": "code",
   "execution_count": 3,
   "metadata": {},
   "outputs": [
    {
     "data": {
      "text/html": [
       "<div>\n",
       "<style scoped>\n",
       "    .dataframe tbody tr th:only-of-type {\n",
       "        vertical-align: middle;\n",
       "    }\n",
       "\n",
       "    .dataframe tbody tr th {\n",
       "        vertical-align: top;\n",
       "    }\n",
       "\n",
       "    .dataframe thead th {\n",
       "        text-align: right;\n",
       "    }\n",
       "</style>\n",
       "<table border=\"1\" class=\"dataframe\">\n",
       "  <thead>\n",
       "    <tr style=\"text-align: right;\">\n",
       "      <th></th>\n",
       "      <th>start</th>\n",
       "      <th>interest</th>\n",
       "      <th>end</th>\n",
       "    </tr>\n",
       "  </thead>\n",
       "  <tbody>\n",
       "    <tr>\n",
       "      <th>1</th>\n",
       "      <td>1000.00</td>\n",
       "      <td>50.62</td>\n",
       "      <td>1050.62</td>\n",
       "    </tr>\n",
       "    <tr>\n",
       "      <th>2</th>\n",
       "      <td>1050.62</td>\n",
       "      <td>53.19</td>\n",
       "      <td>1103.81</td>\n",
       "    </tr>\n",
       "    <tr>\n",
       "      <th>3</th>\n",
       "      <td>1103.81</td>\n",
       "      <td>55.88</td>\n",
       "      <td>1159.69</td>\n",
       "    </tr>\n",
       "    <tr>\n",
       "      <th>4</th>\n",
       "      <td>1159.69</td>\n",
       "      <td>58.71</td>\n",
       "      <td>1218.40</td>\n",
       "    </tr>\n",
       "    <tr>\n",
       "      <th>5</th>\n",
       "      <td>1218.40</td>\n",
       "      <td>61.68</td>\n",
       "      <td>1280.08</td>\n",
       "    </tr>\n",
       "  </tbody>\n",
       "</table>\n",
       "</div>"
      ],
      "text/plain": [
       "     start  interest      end\n",
       "1  1000.00     50.62  1050.62\n",
       "2  1050.62     53.19  1103.81\n",
       "3  1103.81     55.88  1159.69\n",
       "4  1159.69     58.71  1218.40\n",
       "5  1218.40     61.68  1280.08"
      ]
     },
     "execution_count": 3,
     "metadata": {},
     "output_type": "execute_result"
    }
   ],
   "source": [
    "# test the CompoundInterestSchedule function\n",
    "invest = 1000\n",
    "years = 5\n",
    "rate = .05\n",
    "compounding = 2\n",
    "df = CompoundInterestSchedule(invest, years, rate, compounding)\n",
    "df"
   ]
  },
  {
   "cell_type": "code",
   "execution_count": 2,
   "metadata": {},
   "outputs": [],
   "source": [
    "import pandas as pd\n",
    "result = pd.DataFrame({\"start\":[], \"interest\":[], \"end\":[]})"
   ]
  },
  {
   "cell_type": "code",
   "execution_count": null,
   "metadata": {},
   "outputs": [],
   "source": []
  },
  {
   "cell_type": "code",
   "execution_count": null,
   "metadata": {},
   "outputs": [],
   "source": []
  }
 ],
 "metadata": {
  "kernelspec": {
   "display_name": "Python 3",
   "language": "python",
   "name": "python3"
  },
  "language_info": {
   "codemirror_mode": {
    "name": "ipython",
    "version": 3
   },
   "file_extension": ".py",
   "mimetype": "text/x-python",
   "name": "python",
   "nbconvert_exporter": "python",
   "pygments_lexer": "ipython3",
   "version": "3.8.8"
  }
 },
 "nbformat": 4,
 "nbformat_minor": 2
}
