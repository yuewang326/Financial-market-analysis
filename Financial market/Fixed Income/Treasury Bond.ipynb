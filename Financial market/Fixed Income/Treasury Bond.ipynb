{
 "cells": [
  {
   "cell_type": "markdown",
   "metadata": {},
   "source": [
    "Treasury Bond"
   ]
  },
  {
   "cell_type": "markdown",
   "metadata": {},
   "source": [
    "latest 30-year US Treasury Bond (per Treasury Auction Announcement):<br>\n",
    "Auction Date: 5/13/20<br>\n",
    "Dated Date: 5/15/20<br>\n",
    "Term: 30y<br>\n",
    "Coupon: 1.25%<br>\n",
    "Payment Dates: 5/15, 11/15<br>\n",
    "Maturity: 5/15/2050<br>\n",
    "yield (per Bloomberg 5/29): 1.41%"
   ]
  },
  {
   "cell_type": "code",
   "execution_count": 1,
   "metadata": {},
   "outputs": [],
   "source": [
    "import QuantLib as ql"
   ]
  },
  {
   "cell_type": "code",
   "execution_count": 2,
   "metadata": {},
   "outputs": [],
   "source": [
    "# parameters for the timing of the bond's cashflows\n",
    "issueDate = ql.Date(15, 5, 2020) # this is the 'dated date' of the bond\n",
    "maturityDate = ql.Date(15, 5, 2050) # thirty year bond\n",
    "frequency = ql.Period(ql.Semiannual) # pay semi-annually\n",
    "calendar = ql.NullCalendar()\n",
    "businessConvention = ql.Unadjusted\n",
    "dateGeneration = ql.DateGeneration.Backward # payment dates generated from maturity backwards\n",
    "monthEnd = False # convention for aligning dates with month end"
   ]
  },
  {
   "cell_type": "code",
   "execution_count": 5,
   "metadata": {},
   "outputs": [
    {
     "data": {
      "text/plain": [
       "[0.0125]"
      ]
     },
     "execution_count": 5,
     "metadata": {},
     "output_type": "execute_result"
    }
   ],
   "source": [
    "coupons"
   ]
  },
  {
   "cell_type": "code",
   "execution_count": null,
   "metadata": {},
   "outputs": [],
   "source": []
  },
  {
   "cell_type": "code",
   "execution_count": 4,
   "metadata": {},
   "outputs": [],
   "source": [
    "# parameters for the bond\n",
    "couponRate = .0125 # 1.25% coupon rate\n",
    "coupons = [couponRate]\n",
    "settlementDays = 1 # T+1 settlement convention\n",
    "faceValue = 1000 # principal at maturity\n",
    "daycount = ql.Thirty360()"
   ]
  },
  {
   "cell_type": "code",
   "execution_count": null,
   "metadata": {},
   "outputs": [],
   "source": []
  },
  {
   "cell_type": "code",
   "execution_count": 14,
   "metadata": {},
   "outputs": [
    {
     "name": "stdout",
     "output_type": "stream",
     "text": [
      "May 15th, 2020 November 15th, 2020 May 15th, 2021 November 15th, 2021 May 15th, 2022 November 15th, 2022 May 15th, 2023 November 15th, 2023 May 15th, 2024 November 15th, 2024 May 15th, 2025 November 15th, 2025 May 15th, 2026 November 15th, 2026 May 15th, 2027 November 15th, 2027 May 15th, 2028 November 15th, 2028 May 15th, 2029 November 15th, 2029 May 15th, 2030 November 15th, 2030 May 15th, 2031 November 15th, 2031 May 15th, 2032 November 15th, 2032 May 15th, 2033 November 15th, 2033 May 15th, 2034 November 15th, 2034 May 15th, 2035 November 15th, 2035 May 15th, 2036 November 15th, 2036 May 15th, 2037 November 15th, 2037 May 15th, 2038 November 15th, 2038 May 15th, 2039 November 15th, 2039 May 15th, 2040 November 15th, 2040 May 15th, 2041 November 15th, 2041 May 15th, 2042 November 15th, 2042 May 15th, 2043 November 15th, 2043 May 15th, 2044 November 15th, 2044 May 15th, 2045 November 15th, 2045 May 15th, 2046 November 15th, 2046 May 15th, 2047 November 15th, 2047 May 15th, 2048 November 15th, 2048 May 15th, 2049 November 15th, 2049 May 15th, 2050 "
     ]
    }
   ],
   "source": [
    "# Generate the schedule for this bond\n",
    "schedule = ql.Schedule(issueDate, maturityDate, frequency, calendar,\n",
    "                       businessConvention, businessConvention, dateGeneration, monthEnd)\n",
    "for date in schedule:\n",
    "   print(date, end=' ')"
   ]
  },
  {
   "cell_type": "code",
   "execution_count": 15,
   "metadata": {},
   "outputs": [],
   "source": [
    "# create an instance of a fixed rate bond\n",
    "fixedRateBond = ql.FixedRateBond(settlementDays, faceValue, schedule, coupons, daycount)"
   ]
  },
  {
   "cell_type": "code",
   "execution_count": 16,
   "metadata": {},
   "outputs": [
    {
     "name": "stdout",
     "output_type": "stream",
     "text": [
      "0.05556\n"
     ]
    }
   ],
   "source": [
    "# what is the accrued interest for a given settlement data\n",
    "settleDate = ql.Date(1, 6, 2020)\n",
    "accrued = fixedRateBond.accruedAmount(settleDate)\n",
    "print(\"%.5f\" % accrued)"
   ]
  },
  {
   "cell_type": "code",
   "execution_count": 17,
   "metadata": {},
   "outputs": [
    {
     "name": "stdout",
     "output_type": "stream",
     "text": [
      "96.10388\n"
     ]
    }
   ],
   "source": [
    "# yield->price calculation\n",
    "bondYield = .0141\n",
    "flatPrice = fixedRateBond.cleanPrice(bondYield,\n",
    "                         ql.ActualActual(ql.ActualActual.Bond), ql.Compounded, ql.Semiannual,\n",
    "                         settleDate)\n",
    "print(\"%.5f\" % flatPrice)"
   ]
  },
  {
   "cell_type": "code",
   "execution_count": 18,
   "metadata": {},
   "outputs": [
    {
     "name": "stdout",
     "output_type": "stream",
     "text": [
      "96.15943\n"
     ]
    }
   ],
   "source": [
    "# full price\n",
    "fullPrice = accrued + flatPrice\n",
    "print(\"%.5f\" % fullPrice)"
   ]
  },
  {
   "cell_type": "code",
   "execution_count": null,
   "metadata": {},
   "outputs": [],
   "source": []
  }
 ],
 "metadata": {
  "kernelspec": {
   "display_name": "Python 3",
   "language": "python",
   "name": "python3"
  },
  "language_info": {
   "codemirror_mode": {
    "name": "ipython",
    "version": 3
   },
   "file_extension": ".py",
   "mimetype": "text/x-python",
   "name": "python",
   "nbconvert_exporter": "python",
   "pygments_lexer": "ipython3",
   "version": "3.8.8"
  }
 },
 "nbformat": 4,
 "nbformat_minor": 2
}
