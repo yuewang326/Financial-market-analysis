{
 "cells": [
  {
   "cell_type": "code",
   "execution_count": 1,
   "metadata": {},
   "outputs": [],
   "source": [
    "#import require packages\n",
    "import requests # to access the web page\n",
    "from bs4 import BeautifulSoup # to parse html and navigate html tree\n",
    "import pandas as pd"
   ]
  },
  {
   "cell_type": "code",
   "execution_count": 2,
   "metadata": {},
   "outputs": [],
   "source": [
    "# get the yields from the web page from treasury.gov\n",
    "url = 'https://www.treasury.gov/resource-center/data-chart-center/interest-rates/Pages/TextView.aspx?data=yield'\n",
    "page = requests.get(url)"
   ]
  },
  {
   "cell_type": "code",
   "execution_count": 3,
   "metadata": {},
   "outputs": [],
   "source": [
    "# create a parse tree using Beautiful Soup\n",
    "soup = BeautifulSoup(page.content)\n",
    "\n",
    "# locate the table element in the page corresponding to the Treasury yields\n",
    "t_chart = soup.find(class_=\"t-chart\")"
   ]
  },
  {
   "cell_type": "code",
   "execution_count": 12,
   "metadata": {},
   "outputs": [
    {
     "name": "stdout",
     "output_type": "stream",
     "text": [
      "['Date', '1 mo', '2 mo', '3 mo', '6 mo', '1 yr', '2 yr', '3 yr', '5 yr', '7 yr', '10 yr', '20 yr', '30 yr']\n"
     ]
    }
   ],
   "source": [
    "# scrape column names, use them as the key of dictionary\n",
    "tableRows = t_chart.find_all('tr') # within the found node, find all the <tr> (rows)\n",
    "\n",
    "# get th - table head \n",
    "head = tableRows[0].find_all('th')\n",
    "col_names = [col_name.text for col_name in head]\n",
    "print(col_names)"
   ]
  },
  {
   "cell_type": "code",
   "execution_count": 26,
   "metadata": {},
   "outputs": [],
   "source": [
    "# initialize dict to store data\n",
    "cols = {col_names[i]:[] for i in range(13)}\n",
    "\n",
    "for row in tableRows:\n",
    "    cells = row.findAll('td') # within the row, find each <td> (cell)\n",
    "    if (len(cells) > 0):\n",
    "        for i in range(13):\n",
    "            cell_value = cells[i].text.strip()\n",
    "            # append value to each column\n",
    "            cols[col_names[i]].append(cell_value)"
   ]
  },
  {
   "cell_type": "code",
   "execution_count": 39,
   "metadata": {},
   "outputs": [
    {
     "data": {
      "text/plain": [
       "{'Date': ['05/03/21', '05/04/21', '05/05/21', '05/06/21'],\n",
       " '1 mo': ['0.02', '0.01', '0.01', '0.01'],\n",
       " '2 mo': ['0.02', '0.01', '0.01', '0.02'],\n",
       " '3 mo': ['0.04', '0.02', '0.02', '0.02'],\n",
       " '6 mo': ['0.04', '0.04', '0.04', '0.04'],\n",
       " '1 yr': ['0.06', '0.06', '0.06', '0.05'],\n",
       " '2 yr': ['0.16', '0.16', '0.16', '0.16'],\n",
       " '3 yr': ['0.33', '0.33', '0.32', '0.32'],\n",
       " '5 yr': ['0.84', '0.82', '0.80', '0.81'],\n",
       " '7 yr': ['1.29', '1.28', '1.25', '1.25'],\n",
       " '10 yr': ['1.63', '1.61', '1.59', '1.58'],\n",
       " '20 yr': ['2.18', '2.16', '2.14', '2.14'],\n",
       " '30 yr': ['2.30', '2.27', '2.25', '2.24']}"
      ]
     },
     "execution_count": 39,
     "metadata": {},
     "output_type": "execute_result"
    }
   ],
   "source": [
    "cols"
   ]
  },
  {
   "cell_type": "code",
   "execution_count": 40,
   "metadata": {},
   "outputs": [],
   "source": [
    "# convert dict to df, reset index with date\n",
    "\n",
    "df = pd.DataFrame(data = cols)\n",
    "df.set_index('Date', inplace=True)\n",
    "df = df.astype(float)   # convert bs4 scraped str to float"
   ]
  },
  {
   "cell_type": "code",
   "execution_count": 47,
   "metadata": {},
   "outputs": [
    {
     "data": {
      "text/html": [
       "<div>\n",
       "<style scoped>\n",
       "    .dataframe tbody tr th:only-of-type {\n",
       "        vertical-align: middle;\n",
       "    }\n",
       "\n",
       "    .dataframe tbody tr th {\n",
       "        vertical-align: top;\n",
       "    }\n",
       "\n",
       "    .dataframe thead th {\n",
       "        text-align: right;\n",
       "    }\n",
       "</style>\n",
       "<table border=\"1\" class=\"dataframe\">\n",
       "  <thead>\n",
       "    <tr style=\"text-align: right;\">\n",
       "      <th></th>\n",
       "      <th>1 mo</th>\n",
       "      <th>2 mo</th>\n",
       "      <th>3 mo</th>\n",
       "      <th>6 mo</th>\n",
       "      <th>1 yr</th>\n",
       "      <th>2 yr</th>\n",
       "      <th>3 yr</th>\n",
       "      <th>5 yr</th>\n",
       "      <th>7 yr</th>\n",
       "      <th>10 yr</th>\n",
       "      <th>20 yr</th>\n",
       "      <th>30 yr</th>\n",
       "    </tr>\n",
       "    <tr>\n",
       "      <th>Date</th>\n",
       "      <th></th>\n",
       "      <th></th>\n",
       "      <th></th>\n",
       "      <th></th>\n",
       "      <th></th>\n",
       "      <th></th>\n",
       "      <th></th>\n",
       "      <th></th>\n",
       "      <th></th>\n",
       "      <th></th>\n",
       "      <th></th>\n",
       "      <th></th>\n",
       "    </tr>\n",
       "  </thead>\n",
       "  <tbody>\n",
       "    <tr>\n",
       "      <td>05/03/21</td>\n",
       "      <td>0.02</td>\n",
       "      <td>0.02</td>\n",
       "      <td>0.04</td>\n",
       "      <td>0.04</td>\n",
       "      <td>0.06</td>\n",
       "      <td>0.16</td>\n",
       "      <td>0.33</td>\n",
       "      <td>0.84</td>\n",
       "      <td>1.29</td>\n",
       "      <td>1.63</td>\n",
       "      <td>2.18</td>\n",
       "      <td>2.30</td>\n",
       "    </tr>\n",
       "    <tr>\n",
       "      <td>05/04/21</td>\n",
       "      <td>0.01</td>\n",
       "      <td>0.01</td>\n",
       "      <td>0.02</td>\n",
       "      <td>0.04</td>\n",
       "      <td>0.06</td>\n",
       "      <td>0.16</td>\n",
       "      <td>0.33</td>\n",
       "      <td>0.82</td>\n",
       "      <td>1.28</td>\n",
       "      <td>1.61</td>\n",
       "      <td>2.16</td>\n",
       "      <td>2.27</td>\n",
       "    </tr>\n",
       "    <tr>\n",
       "      <td>05/05/21</td>\n",
       "      <td>0.01</td>\n",
       "      <td>0.01</td>\n",
       "      <td>0.02</td>\n",
       "      <td>0.04</td>\n",
       "      <td>0.06</td>\n",
       "      <td>0.16</td>\n",
       "      <td>0.32</td>\n",
       "      <td>0.80</td>\n",
       "      <td>1.25</td>\n",
       "      <td>1.59</td>\n",
       "      <td>2.14</td>\n",
       "      <td>2.25</td>\n",
       "    </tr>\n",
       "    <tr>\n",
       "      <td>05/06/21</td>\n",
       "      <td>0.01</td>\n",
       "      <td>0.02</td>\n",
       "      <td>0.02</td>\n",
       "      <td>0.04</td>\n",
       "      <td>0.05</td>\n",
       "      <td>0.16</td>\n",
       "      <td>0.32</td>\n",
       "      <td>0.81</td>\n",
       "      <td>1.25</td>\n",
       "      <td>1.58</td>\n",
       "      <td>2.14</td>\n",
       "      <td>2.24</td>\n",
       "    </tr>\n",
       "  </tbody>\n",
       "</table>\n",
       "</div>"
      ],
      "text/plain": [
       "          1 mo  2 mo  3 mo  6 mo  1 yr  2 yr  3 yr  5 yr  7 yr  10 yr  20 yr  \\\n",
       "Date                                                                           \n",
       "05/03/21  0.02  0.02  0.04  0.04  0.06  0.16  0.33  0.84  1.29   1.63   2.18   \n",
       "05/04/21  0.01  0.01  0.02  0.04  0.06  0.16  0.33  0.82  1.28   1.61   2.16   \n",
       "05/05/21  0.01  0.01  0.02  0.04  0.06  0.16  0.32  0.80  1.25   1.59   2.14   \n",
       "05/06/21  0.01  0.02  0.02  0.04  0.05  0.16  0.32  0.81  1.25   1.58   2.14   \n",
       "\n",
       "          30 yr  \n",
       "Date             \n",
       "05/03/21   2.30  \n",
       "05/04/21   2.27  \n",
       "05/05/21   2.25  \n",
       "05/06/21   2.24  "
      ]
     },
     "execution_count": 47,
     "metadata": {},
     "output_type": "execute_result"
    }
   ],
   "source": [
    "df"
   ]
  },
  {
   "cell_type": "code",
   "execution_count": 48,
   "metadata": {},
   "outputs": [
    {
     "name": "stdout",
     "output_type": "stream",
     "text": [
      "1 mo     0.01\n",
      "2 mo     0.02\n",
      "3 mo     0.02\n",
      "6 mo     0.04\n",
      "1 yr     0.05\n",
      "2 yr     0.16\n",
      "3 yr     0.32\n",
      "5 yr     0.81\n",
      "7 yr     1.25\n",
      "10 yr    1.58\n",
      "20 yr    2.14\n",
      "30 yr    2.24\n",
      "Name: 05/06/21, dtype: float64\n"
     ]
    }
   ],
   "source": [
    "# display the first row of yields\n",
    "row = df.iloc[-1]\n",
    "print(row)"
   ]
  },
  {
   "cell_type": "code",
   "execution_count": 8,
   "metadata": {},
   "outputs": [],
   "source": [
    "# utility function to convert term label to time in years\n",
    "def labelToYears(label):\n",
    "    tokens = label.split()\n",
    "    if len(tokens) != 2:\n",
    "        raise Exception(\"Expecting <term> mo|yr\")\n",
    "    term = float(tokens[0])\n",
    "    period = tokens[1]\n",
    "    if period not in ['mo', 'yr']:\n",
    "        raise Exception(\"Expecting period of 'mo' or 'yr'\")\n",
    "    result = term if period == 'yr' else term / 12.0\n",
    "    return result"
   ]
  },
  {
   "cell_type": "code",
   "execution_count": 52,
   "metadata": {},
   "outputs": [
    {
     "name": "stdout",
     "output_type": "stream",
     "text": [
      "0.08333333333333333\n",
      "5.0\n"
     ]
    }
   ],
   "source": [
    "# test the utility function\n",
    "print(labelToYears(\"1 mo\"))\n",
    "print(labelToYears(\"5 yr\"))"
   ]
  },
  {
   "cell_type": "code",
   "execution_count": 61,
   "metadata": {},
   "outputs": [
    {
     "data": {
      "text/plain": [
       "['1 mo',\n",
       " '2 mo',\n",
       " '3 mo',\n",
       " '6 mo',\n",
       " '1 yr',\n",
       " '2 yr',\n",
       " '3 yr',\n",
       " '5 yr',\n",
       " '7 yr',\n",
       " '10 yr',\n",
       " '20 yr',\n",
       " '30 yr']"
      ]
     },
     "execution_count": 61,
     "metadata": {},
     "output_type": "execute_result"
    }
   ],
   "source": [
    "col_names[1:]"
   ]
  },
  {
   "cell_type": "code",
   "execution_count": 10,
   "metadata": {},
   "outputs": [
    {
     "name": "stdout",
     "output_type": "stream",
     "text": [
      "[0.08333333333333333, 0.16666666666666666, 0.25, 0.5, 1.0, 2.0, 3.0, 5.0, 7.0, 10.0, 20.0, 30.0]\n"
     ]
    }
   ],
   "source": [
    "# create a time-in-years list, based on the table headers\n",
    "years = []\n",
    "for colname in col_names[1:]:\n",
    "    years.append(labelToYears(colname))\n",
    "print(years)"
   ]
  },
  {
   "cell_type": "code",
   "execution_count": 11,
   "metadata": {},
   "outputs": [
    {
     "data": {
      "text/plain": [
       "<matplotlib.collections.PathCollection at 0x12796cb50>"
      ]
     },
     "execution_count": 11,
     "metadata": {},
     "output_type": "execute_result"
    },
    {
     "data": {
      "image/png": "[encoded data removed]",
      "text/plain": [
       "<Figure size 432x288 with 1 Axes>"
      ]
     },
     "metadata": {
      "needs_background": "light"
     },
     "output_type": "display_data"
    }
   ],
   "source": [
    "# plot the yield curve\n",
    "%matplotlib inline\n",
    "import matplotlib.pyplot as plt\n",
    "\n",
    "# hard-code numeric time values in years, for yield curve\n",
    "#years = [1/12, 2/12, 3/12, 6/12, 1, 2, 3, 5, 7, 10, 20, 30]\n",
    "yields = row.tolist()\n",
    "plt.scatter(years, yields)"
   ]
  }
 ],
 "metadata": {
  "kernelspec": {
   "display_name": "Python 3",
   "language": "python",
   "name": "python3"
  },
  "language_info": {
   "codemirror_mode": {
    "name": "ipython",
    "version": 3
   },
   "file_extension": ".py",
   "mimetype": "text/x-python",
   "name": "python",
   "nbconvert_exporter": "python",
   "pygments_lexer": "ipython3",
   "version": "3.8.8"
  }
 },
 "nbformat": 4,
 "nbformat_minor": 2
}
