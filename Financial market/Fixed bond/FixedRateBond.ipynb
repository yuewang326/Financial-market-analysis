{
 "cells": [
  {
   "cell_type": "markdown",
   "metadata": {},
   "source": [
    "##  Defining a Class"
   ]
  },
  {
   "cell_type": "code",
   "execution_count": 1,
   "metadata": {},
   "outputs": [],
   "source": [
    "from datetime import date\n",
    "from dateutil.relativedelta import relativedelta\n",
    "import pandas as pd"
   ]
  },
  {
   "cell_type": "code",
   "execution_count": 2,
   "metadata": {},
   "outputs": [
    {
     "data": {
      "text/plain": [
       "datetime.date(2020, 2, 29)"
      ]
     },
     "execution_count": 2,
     "metadata": {},
     "output_type": "execute_result"
    }
   ],
   "source": [
    "# test date constructor\n",
    "d = date(2020, 2, 29)\n",
    "d"
   ]
  },
  {
   "cell_type": "code",
   "execution_count": 3,
   "metadata": {},
   "outputs": [
    {
     "data": {
      "text/plain": [
       "datetime.date(2019, 8, 29)"
      ]
     },
     "execution_count": 3,
     "metadata": {},
     "output_type": "execute_result"
    }
   ],
   "source": [
    "# test relativedelta\n",
    "delta = relativedelta(months=-6)\n",
    "d+delta"
   ]
  },
  {
   "cell_type": "code",
   "execution_count": 24,
   "metadata": {},
   "outputs": [],
   "source": [
    "class FixedRateBond:\n",
    "    def __init__(self, principal, coupon, freq, years, maturityDate):\n",
    "        self.principal = principal\n",
    "        self.coupon = coupon\n",
    "        self.freq = freq\n",
    "        self.years = years\n",
    "        self.maturityDate = maturityDate\n",
    "        # cashflow generation:\n",
    "        self.dates = []\n",
    "        for i in range(years*freq):\n",
    "            delta = relativedelta(months=-12/freq*i)\n",
    "            d = maturityDate + delta\n",
    "            self.dates.insert(0, d)\n",
    "        self.interestFlows = [principal*coupon/freq]*(years*freq)\n",
    "        self.principalFlows = [0]*(years*freq)\n",
    "        self.principalFlows[-1] = principal\n",
    "        \n",
    "    def __str__(self):\n",
    "        return str(self.principal)+','+str(self.coupon)+','+str(self.years)+','+str(self.maturityDate)\n",
    "    \n",
    "    __repr__ = __str__\n",
    "    \n",
    "    def printFlows(self):\n",
    "        print('dates:', self.dates)\n",
    "        print('interest:', self.interestFlows)\n",
    "        print('principal:', self.principalFlows)\n",
    "    def cashflows(self):\n",
    "        df = pd.DataFrame({\"Date\":self.dates,\n",
    "                           \"Interest\":self.interestFlows,\n",
    "                           \"Principal\":self.principalFlows})\n",
    "        return df"
   ]
  },
  {
   "cell_type": "code",
   "execution_count": 25,
   "metadata": {},
   "outputs": [],
   "source": [
    "# Three year, semi-annual paying bond - 5% maturing 2023-06-01\n",
    "maturity = date(2023, 6, 1)\n",
    "bond = FixedRateBond(1000, .05, 2, 3, maturity)"
   ]
  },
  {
   "cell_type": "code",
   "execution_count": 26,
   "metadata": {},
   "outputs": [
    {
     "data": {
      "text/plain": [
       "1000,0.05,3,2023-06-01"
      ]
     },
     "execution_count": 26,
     "metadata": {},
     "output_type": "execute_result"
    }
   ],
   "source": [
    "bond"
   ]
  },
  {
   "cell_type": "code",
   "execution_count": 28,
   "metadata": {},
   "outputs": [
    {
     "name": "stdout",
     "output_type": "stream",
     "text": [
      "dates: [datetime.date(2020, 12, 1), datetime.date(2021, 6, 1), datetime.date(2021, 12, 1), datetime.date(2022, 6, 1), datetime.date(2022, 12, 1), datetime.date(2023, 6, 1)]\n",
      "interest: [25.0, 25.0, 25.0, 25.0, 25.0, 25.0]\n",
      "principal: [0, 0, 0, 0, 0, 1000]\n"
     ]
    }
   ],
   "source": [
    "bond.printFlows()"
   ]
  },
  {
   "cell_type": "code",
   "execution_count": 29,
   "metadata": {},
   "outputs": [
    {
     "data": {
      "text/html": [
       "<div>\n",
       "<style scoped>\n",
       "    .dataframe tbody tr th:only-of-type {\n",
       "        vertical-align: middle;\n",
       "    }\n",
       "\n",
       "    .dataframe tbody tr th {\n",
       "        vertical-align: top;\n",
       "    }\n",
       "\n",
       "    .dataframe thead th {\n",
       "        text-align: right;\n",
       "    }\n",
       "</style>\n",
       "<table border=\"1\" class=\"dataframe\">\n",
       "  <thead>\n",
       "    <tr style=\"text-align: right;\">\n",
       "      <th></th>\n",
       "      <th>Date</th>\n",
       "      <th>Interest</th>\n",
       "      <th>Principal</th>\n",
       "    </tr>\n",
       "  </thead>\n",
       "  <tbody>\n",
       "    <tr>\n",
       "      <td>0</td>\n",
       "      <td>2020-12-01</td>\n",
       "      <td>25.0</td>\n",
       "      <td>0</td>\n",
       "    </tr>\n",
       "    <tr>\n",
       "      <td>1</td>\n",
       "      <td>2021-06-01</td>\n",
       "      <td>25.0</td>\n",
       "      <td>0</td>\n",
       "    </tr>\n",
       "    <tr>\n",
       "      <td>2</td>\n",
       "      <td>2021-12-01</td>\n",
       "      <td>25.0</td>\n",
       "      <td>0</td>\n",
       "    </tr>\n",
       "    <tr>\n",
       "      <td>3</td>\n",
       "      <td>2022-06-01</td>\n",
       "      <td>25.0</td>\n",
       "      <td>0</td>\n",
       "    </tr>\n",
       "    <tr>\n",
       "      <td>4</td>\n",
       "      <td>2022-12-01</td>\n",
       "      <td>25.0</td>\n",
       "      <td>0</td>\n",
       "    </tr>\n",
       "    <tr>\n",
       "      <td>5</td>\n",
       "      <td>2023-06-01</td>\n",
       "      <td>25.0</td>\n",
       "      <td>1000</td>\n",
       "    </tr>\n",
       "  </tbody>\n",
       "</table>\n",
       "</div>"
      ],
      "text/plain": [
       "         Date  Interest  Principal\n",
       "0  2020-12-01      25.0          0\n",
       "1  2021-06-01      25.0          0\n",
       "2  2021-12-01      25.0          0\n",
       "3  2022-06-01      25.0          0\n",
       "4  2022-12-01      25.0          0\n",
       "5  2023-06-01      25.0       1000"
      ]
     },
     "execution_count": 29,
     "metadata": {},
     "output_type": "execute_result"
    }
   ],
   "source": [
    "bond.cashflows()"
   ]
  },
  {
   "cell_type": "code",
   "execution_count": 30,
   "metadata": {},
   "outputs": [],
   "source": [
    "principalFlows = [0]*(3)"
   ]
  },
  {
   "cell_type": "code",
   "execution_count": 33,
   "metadata": {},
   "outputs": [
    {
     "data": {
      "text/plain": [
       "[0, 0, 3]"
      ]
     },
     "execution_count": 33,
     "metadata": {},
     "output_type": "execute_result"
    }
   ],
   "source": [
    "principalFlows\n",
    "principalFlows[-1] = 3\n",
    "principalFlows"
   ]
  },
  {
   "cell_type": "code",
   "execution_count": 34,
   "metadata": {},
   "outputs": [],
   "source": [
    "years = 5\n",
    "freq = 3"
   ]
  },
  {
   "cell_type": "code",
   "execution_count": 48,
   "metadata": {},
   "outputs": [
    {
     "name": "stdout",
     "output_type": "stream",
     "text": [
      "0\n",
      "relativedelta()\n",
      "2023-06-01\n",
      "[datetime.date(2023, 6, 1)]\n",
      "1\n",
      "relativedelta(months=-4)\n",
      "2023-02-01\n",
      "[datetime.date(2023, 2, 1), datetime.date(2023, 6, 1)]\n",
      "2\n",
      "relativedelta(months=-8)\n",
      "2022-10-01\n",
      "[datetime.date(2022, 10, 1), datetime.date(2023, 2, 1), datetime.date(2023, 6, 1)]\n",
      "3\n",
      "relativedelta(years=-1)\n",
      "2022-06-01\n",
      "[datetime.date(2022, 6, 1), datetime.date(2022, 10, 1), datetime.date(2023, 2, 1), datetime.date(2023, 6, 1)]\n",
      "4\n",
      "relativedelta(years=-1, months=-4)\n",
      "2022-02-01\n",
      "[datetime.date(2022, 2, 1), datetime.date(2022, 6, 1), datetime.date(2022, 10, 1), datetime.date(2023, 2, 1), datetime.date(2023, 6, 1)]\n",
      "5\n",
      "relativedelta(years=-1, months=-8)\n",
      "2021-10-01\n",
      "[datetime.date(2021, 10, 1), datetime.date(2022, 2, 1), datetime.date(2022, 6, 1), datetime.date(2022, 10, 1), datetime.date(2023, 2, 1), datetime.date(2023, 6, 1)]\n",
      "6\n",
      "relativedelta(years=-2)\n",
      "2021-06-01\n",
      "[datetime.date(2021, 6, 1), datetime.date(2021, 10, 1), datetime.date(2022, 2, 1), datetime.date(2022, 6, 1), datetime.date(2022, 10, 1), datetime.date(2023, 2, 1), datetime.date(2023, 6, 1)]\n",
      "7\n",
      "relativedelta(years=-2, months=-4)\n",
      "2021-02-01\n",
      "[datetime.date(2021, 2, 1), datetime.date(2021, 6, 1), datetime.date(2021, 10, 1), datetime.date(2022, 2, 1), datetime.date(2022, 6, 1), datetime.date(2022, 10, 1), datetime.date(2023, 2, 1), datetime.date(2023, 6, 1)]\n",
      "8\n",
      "relativedelta(years=-2, months=-8)\n",
      "2020-10-01\n",
      "[datetime.date(2020, 10, 1), datetime.date(2021, 2, 1), datetime.date(2021, 6, 1), datetime.date(2021, 10, 1), datetime.date(2022, 2, 1), datetime.date(2022, 6, 1), datetime.date(2022, 10, 1), datetime.date(2023, 2, 1), datetime.date(2023, 6, 1)]\n",
      "9\n",
      "relativedelta(years=-3)\n",
      "2020-06-01\n",
      "[datetime.date(2020, 6, 1), datetime.date(2020, 10, 1), datetime.date(2021, 2, 1), datetime.date(2021, 6, 1), datetime.date(2021, 10, 1), datetime.date(2022, 2, 1), datetime.date(2022, 6, 1), datetime.date(2022, 10, 1), datetime.date(2023, 2, 1), datetime.date(2023, 6, 1)]\n",
      "10\n",
      "relativedelta(years=-3, months=-4)\n",
      "2020-02-01\n",
      "[datetime.date(2020, 2, 1), datetime.date(2020, 6, 1), datetime.date(2020, 10, 1), datetime.date(2021, 2, 1), datetime.date(2021, 6, 1), datetime.date(2021, 10, 1), datetime.date(2022, 2, 1), datetime.date(2022, 6, 1), datetime.date(2022, 10, 1), datetime.date(2023, 2, 1), datetime.date(2023, 6, 1)]\n",
      "11\n",
      "relativedelta(years=-3, months=-8)\n",
      "2019-10-01\n",
      "[datetime.date(2019, 10, 1), datetime.date(2020, 2, 1), datetime.date(2020, 6, 1), datetime.date(2020, 10, 1), datetime.date(2021, 2, 1), datetime.date(2021, 6, 1), datetime.date(2021, 10, 1), datetime.date(2022, 2, 1), datetime.date(2022, 6, 1), datetime.date(2022, 10, 1), datetime.date(2023, 2, 1), datetime.date(2023, 6, 1)]\n",
      "12\n",
      "relativedelta(years=-4)\n",
      "2019-06-01\n",
      "[datetime.date(2019, 6, 1), datetime.date(2019, 10, 1), datetime.date(2020, 2, 1), datetime.date(2020, 6, 1), datetime.date(2020, 10, 1), datetime.date(2021, 2, 1), datetime.date(2021, 6, 1), datetime.date(2021, 10, 1), datetime.date(2022, 2, 1), datetime.date(2022, 6, 1), datetime.date(2022, 10, 1), datetime.date(2023, 2, 1), datetime.date(2023, 6, 1)]\n",
      "13\n",
      "relativedelta(years=-4, months=-4)\n",
      "2019-02-01\n",
      "[datetime.date(2019, 2, 1), datetime.date(2019, 6, 1), datetime.date(2019, 10, 1), datetime.date(2020, 2, 1), datetime.date(2020, 6, 1), datetime.date(2020, 10, 1), datetime.date(2021, 2, 1), datetime.date(2021, 6, 1), datetime.date(2021, 10, 1), datetime.date(2022, 2, 1), datetime.date(2022, 6, 1), datetime.date(2022, 10, 1), datetime.date(2023, 2, 1), datetime.date(2023, 6, 1)]\n",
      "14\n",
      "relativedelta(years=-4, months=-8)\n",
      "2018-10-01\n",
      "[datetime.date(2018, 10, 1), datetime.date(2019, 2, 1), datetime.date(2019, 6, 1), datetime.date(2019, 10, 1), datetime.date(2020, 2, 1), datetime.date(2020, 6, 1), datetime.date(2020, 10, 1), datetime.date(2021, 2, 1), datetime.date(2021, 6, 1), datetime.date(2021, 10, 1), datetime.date(2022, 2, 1), datetime.date(2022, 6, 1), datetime.date(2022, 10, 1), datetime.date(2023, 2, 1), datetime.date(2023, 6, 1)]\n"
     ]
    }
   ],
   "source": [
    "maturity = date(2023, 6, 1)\n",
    "dates = []\n",
    "for i in range(years*freq):\n",
    "    delta = relativedelta(months=-12/freq*i)\n",
    "    d = maturity + delta\n",
    "    dates.insert(0, d)\n",
    "    print(i)\n",
    "    print(delta)\n",
    "    print(d)\n",
    "    print(dates)"
   ]
  },
  {
   "cell_type": "code",
   "execution_count": null,
   "metadata": {},
   "outputs": [],
   "source": []
  },
  {
   "cell_type": "code",
   "execution_count": null,
   "metadata": {},
   "outputs": [],
   "source": []
  }
 ],
 "metadata": {
  "kernelspec": {
   "display_name": "Python 3",
   "language": "python",
   "name": "python3"
  },
  "language_info": {
   "codemirror_mode": {
    "name": "ipython",
    "version": 3
   },
   "file_extension": ".py",
   "mimetype": "text/x-python",
   "name": "python",
   "nbconvert_exporter": "python",
   "pygments_lexer": "ipython3",
   "version": "3.8.8"
  }
 },
 "nbformat": 4,
 "nbformat_minor": 2
}
